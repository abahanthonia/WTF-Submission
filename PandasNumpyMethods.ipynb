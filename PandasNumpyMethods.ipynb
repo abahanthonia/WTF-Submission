{
 "cells": [
  {
   "cell_type": "code",
   "execution_count": 1,
   "id": "f69085b5",
   "metadata": {},
   "outputs": [],
   "source": [
    "import numpy as np\n",
    "import pandas as pd"
   ]
  },
  {
   "cell_type": "markdown",
   "id": "5370622e",
   "metadata": {},
   "source": [
    "# 20 inbuilt methods on numpy"
   ]
  },
  {
   "cell_type": "markdown",
   "id": "9a11b405",
   "metadata": {},
   "source": [
    "1) np.sort:\n",
    "creates a sorted copy on array.\n",
    "Example:"
   ]
  },
  {
   "cell_type": "code",
   "execution_count": 2,
   "id": "0684358f",
   "metadata": {},
   "outputs": [
    {
     "name": "stdout",
     "output_type": "stream",
     "text": [
      "[2 2 3 3 4 6 7 8]\n"
     ]
    }
   ],
   "source": [
    "a = np.array([3,6,4,7,8,2,3,2])\n",
    "print(np.sort(a))"
   ]
  },
  {
   "cell_type": "markdown",
   "id": "fc9307c2",
   "metadata": {},
   "source": [
    "2) np.arrange\n",
    "returns evenly spaced values within a given interval\n",
    "Example:\n"
   ]
  },
  {
   "cell_type": "code",
   "execution_count": 3,
   "id": "540670d6",
   "metadata": {},
   "outputs": [
    {
     "data": {
      "text/plain": [
       "array([ 0,  2,  4,  6,  8, 10, 12, 14, 16, 18])"
      ]
     },
     "execution_count": 3,
     "metadata": {},
     "output_type": "execute_result"
    }
   ],
   "source": [
    "np.arange(0,20,2)\n",
    "\n",
    "\n",
    "                "
   ]
  },
  {
   "cell_type": "markdown",
   "id": "6d62bc46",
   "metadata": {},
   "source": [
    "3) np.zeros:\n",
    "Return a new array of given shape and type, filled with zeros.\n",
    "Example:"
   ]
  },
  {
   "cell_type": "code",
   "execution_count": 4,
   "id": "70805f97",
   "metadata": {},
   "outputs": [
    {
     "data": {
      "text/plain": [
       "array([0., 0., 0., 0., 0., 0.])"
      ]
     },
     "execution_count": 4,
     "metadata": {},
     "output_type": "execute_result"
    }
   ],
   "source": [
    "np.zeros(6)"
   ]
  },
  {
   "cell_type": "code",
   "execution_count": 5,
   "id": "5b55b431",
   "metadata": {},
   "outputs": [
    {
     "data": {
      "text/plain": [
       "array([[0., 0., 0., 0.],\n",
       "       [0., 0., 0., 0.],\n",
       "       [0., 0., 0., 0.],\n",
       "       [0., 0., 0., 0.]])"
      ]
     },
     "execution_count": 5,
     "metadata": {},
     "output_type": "execute_result"
    }
   ],
   "source": [
    "np.zeros((4,4))"
   ]
  },
  {
   "cell_type": "markdown",
   "id": "500c146f",
   "metadata": {},
   "source": [
    "4) np.ones:\n",
    "Return a new array of given shape and type, filled with ones.\n",
    "Example:"
   ]
  },
  {
   "cell_type": "code",
   "execution_count": 6,
   "id": "143e6262",
   "metadata": {},
   "outputs": [
    {
     "data": {
      "text/plain": [
       "array([1., 1., 1., 1., 1., 1., 1., 1., 1.])"
      ]
     },
     "execution_count": 6,
     "metadata": {},
     "output_type": "execute_result"
    }
   ],
   "source": [
    "np.ones(9)"
   ]
  },
  {
   "cell_type": "markdown",
   "id": "a58222fd",
   "metadata": {},
   "source": [
    "5) np.linspace:\n",
    "Return evenly spaced numbers over a specified interval.\n",
    "Example"
   ]
  },
  {
   "cell_type": "code",
   "execution_count": 7,
   "id": "4adce964",
   "metadata": {},
   "outputs": [
    {
     "data": {
      "text/plain": [
       "array([ 0. ,  3.6,  7.2, 10.8, 14.4, 18. ])"
      ]
     },
     "execution_count": 7,
     "metadata": {},
     "output_type": "execute_result"
    }
   ],
   "source": [
    "np.linspace(0,18,6)"
   ]
  },
  {
   "cell_type": "markdown",
   "id": "4532a40b",
   "metadata": {},
   "source": [
    "6) np.floor:\n",
    "rounds down and returns the largest integer less than or equal to a given number.\n",
    "Example:"
   ]
  },
  {
   "cell_type": "code",
   "execution_count": 8,
   "id": "081e4163",
   "metadata": {},
   "outputs": [
    {
     "data": {
      "text/plain": [
       "array([-9., -2., -1.,  0.,  3.,  1., 10.])"
      ]
     },
     "execution_count": 8,
     "metadata": {},
     "output_type": "execute_result"
    }
   ],
   "source": [
    "a = np.array([-9, -1.5, -0.2, 0.2, 3.8, 1.7, 10.0])\n",
    "np.floor(a)"
   ]
  },
  {
   "cell_type": "markdown",
   "id": "a22d72ed",
   "metadata": {},
   "source": [
    "7) np.reshape:\n",
    "Gives a new shape to an array without changing its data.\n",
    "Example:"
   ]
  },
  {
   "cell_type": "code",
   "execution_count": 9,
   "id": "84c74591",
   "metadata": {},
   "outputs": [
    {
     "name": "stdout",
     "output_type": "stream",
     "text": [
      "[[0]\n",
      " [1]\n",
      " [2]\n",
      " [3]\n",
      " [4]\n",
      " [5]\n",
      " [6]\n",
      " [7]]\n"
     ]
    }
   ],
   "source": [
    "x = np.arange(8).reshape((8, 1))\n",
    "print(x)"
   ]
  },
  {
   "cell_type": "markdown",
   "id": "76d39867",
   "metadata": {},
   "source": [
    "8) np.ceil:\n",
    "rounds up a number to the nearest integer, if necessary and returns the result.\n",
    "Example:"
   ]
  },
  {
   "cell_type": "code",
   "execution_count": 10,
   "id": "c1a09ecf",
   "metadata": {},
   "outputs": [
    {
     "data": {
      "text/plain": [
       "array([ 3., -1., -0.,  1.,  3.,  2.,  4.])"
      ]
     },
     "execution_count": 10,
     "metadata": {},
     "output_type": "execute_result"
    }
   ],
   "source": [
    "x = np.array([3, -1.5, -0.2, 0.2, 2.5, 1.7, 4.0])\n",
    "np.ceil(x)"
   ]
  },
  {
   "cell_type": "markdown",
   "id": "bbdc4a22",
   "metadata": {},
   "source": [
    "9) np.absolute:\n",
    "Calculate the absolute value element-wise.\n",
    "Example:"
   ]
  },
  {
   "cell_type": "code",
   "execution_count": 11,
   "id": "e7eefbaf",
   "metadata": {},
   "outputs": [
    {
     "data": {
      "text/plain": [
       "array([ 9, 10,  8,  5,  6])"
      ]
     },
     "execution_count": 11,
     "metadata": {},
     "output_type": "execute_result"
    }
   ],
   "source": [
    "x = np.array([-9, -10,8,-5,-6])\n",
    "np.absolute(x)"
   ]
  },
  {
   "cell_type": "markdown",
   "id": "da13c3b6",
   "metadata": {},
   "source": [
    "10) np.resize:\n",
    "Return a new array with the specified shape.\n",
    "Example:\n"
   ]
  },
  {
   "cell_type": "code",
   "execution_count": 12,
   "id": "a6b591a7",
   "metadata": {},
   "outputs": [
    {
     "data": {
      "text/plain": [
       "array([[4, 1, 2],\n",
       "       [6, 4, 1],\n",
       "       [2, 6, 4],\n",
       "       [1, 2, 6]])"
      ]
     },
     "execution_count": 12,
     "metadata": {},
     "output_type": "execute_result"
    }
   ],
   "source": [
    "x=np.array([[4,1],[2,6]])\n",
    "np.resize(x,(4,3))"
   ]
  },
  {
   "cell_type": "markdown",
   "id": "d7bd7105",
   "metadata": {},
   "source": [
    "11) np.add:\n",
    "use to add arguments element wise. #come back to this for the second way/example.\n",
    "Example:"
   ]
  },
  {
   "cell_type": "code",
   "execution_count": 13,
   "id": "b25e50b7",
   "metadata": {},
   "outputs": [
    {
     "data": {
      "text/plain": [
       "95"
      ]
     },
     "execution_count": 13,
     "metadata": {},
     "output_type": "execute_result"
    }
   ],
   "source": [
    "np.add(90,5)"
   ]
  },
  {
   "cell_type": "markdown",
   "id": "987f8b92",
   "metadata": {},
   "source": [
    "12) np.ones_like\n",
    "Return an array of ones with the same shape and type as a given array.\n",
    "Example:"
   ]
  },
  {
   "cell_type": "code",
   "execution_count": 14,
   "id": "df5d803e",
   "metadata": {},
   "outputs": [
    {
     "data": {
      "text/plain": [
       "array([0, 1, 2])"
      ]
     },
     "execution_count": 14,
     "metadata": {},
     "output_type": "execute_result"
    }
   ],
   "source": [
    "y = np.arange(3)\n",
    "y"
   ]
  },
  {
   "cell_type": "code",
   "execution_count": 15,
   "id": "7d3c2bcf",
   "metadata": {},
   "outputs": [
    {
     "data": {
      "text/plain": [
       "array([1, 1, 1])"
      ]
     },
     "execution_count": 15,
     "metadata": {},
     "output_type": "execute_result"
    }
   ],
   "source": [
    "np.ones_like(y)"
   ]
  },
  {
   "cell_type": "markdown",
   "id": "f383eb89",
   "metadata": {},
   "source": [
    "13) np.alen:\n",
    "Return the length of the first dimension of the input array.\n",
    "Example:"
   ]
  },
  {
   "cell_type": "code",
   "execution_count": 16,
   "id": "2db397e9",
   "metadata": {},
   "outputs": [
    {
     "data": {
      "text/plain": [
       "5"
      ]
     },
     "execution_count": 16,
     "metadata": {},
     "output_type": "execute_result"
    }
   ],
   "source": [
    "x = np.zeros((9,7,5)) \n",
    "x.shape[2]"
   ]
  },
  {
   "cell_type": "code",
   "execution_count": 17,
   "id": "021d5228",
   "metadata": {},
   "outputs": [
    {
     "data": {
      "text/plain": [
       "9"
      ]
     },
     "execution_count": 17,
     "metadata": {},
     "output_type": "execute_result"
    }
   ],
   "source": [
    "np.alen(x)"
   ]
  },
  {
   "cell_type": "markdown",
   "id": "7a26cd03",
   "metadata": {},
   "source": [
    "14) np.all:\n",
    "Test whether all array elements along a given axis evaluate to True.\n",
    "Example:"
   ]
  },
  {
   "cell_type": "code",
   "execution_count": 18,
   "id": "75965b38",
   "metadata": {},
   "outputs": [
    {
     "data": {
      "text/plain": [
       "True"
      ]
     },
     "execution_count": 18,
     "metadata": {},
     "output_type": "execute_result"
    }
   ],
   "source": [
    "np.all([[True,True],[True,True]])"
   ]
  },
  {
   "cell_type": "code",
   "execution_count": 19,
   "id": "1613239a",
   "metadata": {},
   "outputs": [
    {
     "data": {
      "text/plain": [
       "False"
      ]
     },
     "execution_count": 19,
     "metadata": {},
     "output_type": "execute_result"
    }
   ],
   "source": [
    "np.all([[False, False],[True,True]])"
   ]
  },
  {
   "cell_type": "code",
   "execution_count": 20,
   "id": "2f204c30",
   "metadata": {},
   "outputs": [
    {
     "data": {
      "text/plain": [
       "False"
      ]
     },
     "execution_count": 20,
     "metadata": {},
     "output_type": "execute_result"
    }
   ],
   "source": [
    "np.all([[False, False],[False, False]])"
   ]
  },
  {
   "cell_type": "markdown",
   "id": "61d2a06a",
   "metadata": {},
   "source": [
    "15) np.any:\n",
    "Test whether any array element along a given axis evaluates to True.\n",
    "Example:"
   ]
  },
  {
   "cell_type": "code",
   "execution_count": 21,
   "id": "2b52ac7d",
   "metadata": {},
   "outputs": [
    {
     "data": {
      "text/plain": [
       "True"
      ]
     },
     "execution_count": 21,
     "metadata": {},
     "output_type": "execute_result"
    }
   ],
   "source": [
    "np.any([[False, True],[False, False]])"
   ]
  },
  {
   "cell_type": "markdown",
   "id": "2fc0b629",
   "metadata": {},
   "source": [
    "16) np.arccos:\n",
    "Trigonometric inverse cosine, element-wise.\n",
    "Example:"
   ]
  },
  {
   "cell_type": "code",
   "execution_count": 22,
   "id": "344139e2",
   "metadata": {},
   "outputs": [
    {
     "data": {
      "text/plain": [
       "array([1.57079633, 0.        ])"
      ]
     },
     "execution_count": 22,
     "metadata": {},
     "output_type": "execute_result"
    }
   ],
   "source": [
    "np.arccos([0, 1.])"
   ]
  },
  {
   "cell_type": "markdown",
   "id": "672d4ddf",
   "metadata": {},
   "source": [
    "17) np.arcsin:\n",
    "Trigonometric inverse sine, element-wise.\n",
    "Example:"
   ]
  },
  {
   "cell_type": "code",
   "execution_count": 23,
   "id": "038512bd",
   "metadata": {},
   "outputs": [
    {
     "data": {
      "text/plain": [
       "array([0.        , 1.57079633])"
      ]
     },
     "execution_count": 23,
     "metadata": {},
     "output_type": "execute_result"
    }
   ],
   "source": [
    "np.arcsin([0,1])"
   ]
  },
  {
   "cell_type": "markdown",
   "id": "c7a41c58",
   "metadata": {},
   "source": [
    "18) np.zeros_like:\n",
    "Return an array of zeros with the same shape and type as a given array.\n",
    "Exampl:"
   ]
  },
  {
   "cell_type": "code",
   "execution_count": 24,
   "id": "6cb74f03",
   "metadata": {},
   "outputs": [
    {
     "data": {
      "text/plain": [
       "array([0, 1, 2, 3, 4, 5, 6, 7, 8, 9])"
      ]
     },
     "execution_count": 24,
     "metadata": {},
     "output_type": "execute_result"
    }
   ],
   "source": [
    "y = np.arange(10)\n",
    "y"
   ]
  },
  {
   "cell_type": "code",
   "execution_count": 25,
   "id": "178931ad",
   "metadata": {},
   "outputs": [
    {
     "data": {
      "text/plain": [
       "array([0, 0, 0, 0, 0, 0, 0, 0, 0, 0])"
      ]
     },
     "execution_count": 25,
     "metadata": {},
     "output_type": "execute_result"
    }
   ],
   "source": [
    " np.zeros_like(y)"
   ]
  },
  {
   "cell_type": "markdown",
   "id": "8b659a39",
   "metadata": {},
   "source": [
    "19) np.eye:\n",
    "creates an identity matrix.\n",
    "Example:"
   ]
  },
  {
   "cell_type": "code",
   "execution_count": 26,
   "id": "c70d4bbe",
   "metadata": {
    "scrolled": true
   },
   "outputs": [
    {
     "data": {
      "text/plain": [
       "array([[1., 0., 0., 0., 0., 0., 0.],\n",
       "       [0., 1., 0., 0., 0., 0., 0.],\n",
       "       [0., 0., 1., 0., 0., 0., 0.],\n",
       "       [0., 0., 0., 1., 0., 0., 0.],\n",
       "       [0., 0., 0., 0., 1., 0., 0.],\n",
       "       [0., 0., 0., 0., 0., 1., 0.],\n",
       "       [0., 0., 0., 0., 0., 0., 1.]])"
      ]
     },
     "execution_count": 26,
     "metadata": {},
     "output_type": "execute_result"
    }
   ],
   "source": [
    "np.eye(7)"
   ]
  },
  {
   "cell_type": "markdown",
   "id": "f3b805f1",
   "metadata": {},
   "source": [
    "20) np.randint:\n",
    "Return random integers from low (inclusive) to high (exclusive).\n",
    "Example:\n"
   ]
  },
  {
   "cell_type": "code",
   "execution_count": 27,
   "id": "ed9f593c",
   "metadata": {},
   "outputs": [
    {
     "data": {
      "text/plain": [
       "array([6, 3, 5, 8, 2, 4, 9, 3, 2, 2])"
      ]
     },
     "execution_count": 27,
     "metadata": {},
     "output_type": "execute_result"
    }
   ],
   "source": [
    "np.random.randint(2,10,10)"
   ]
  },
  {
   "cell_type": "markdown",
   "id": "abc89e73",
   "metadata": {},
   "source": [
    "# 20 inbuilt methods on pandas"
   ]
  },
  {
   "cell_type": "code",
   "execution_count": 28,
   "id": "4ce1a04e",
   "metadata": {},
   "outputs": [],
   "source": [
    "import numpy as np\n",
    "import pandas as pd"
   ]
  },
  {
   "cell_type": "markdown",
   "id": "bf8445b9",
   "metadata": {},
   "source": [
    "1) pd.Series:\n",
    "this is a one dimensional ndarray with axis labels.\n",
    "Example:"
   ]
  },
  {
   "cell_type": "code",
   "execution_count": 29,
   "id": "db525a67",
   "metadata": {},
   "outputs": [],
   "source": [
    "d={'adult':18, 'teenager':16}\n",
    "ser=pd.Series(data=d, index=['adult', 'teenager'])\n"
   ]
  },
  {
   "cell_type": "code",
   "execution_count": 30,
   "id": "4f54f314",
   "metadata": {},
   "outputs": [
    {
     "data": {
      "text/plain": [
       "adult       18\n",
       "teenager    16\n",
       "dtype: int64"
      ]
     },
     "execution_count": 30,
     "metadata": {},
     "output_type": "execute_result"
    }
   ],
   "source": [
    "ser"
   ]
  },
  {
   "cell_type": "markdown",
   "id": "b0a88d66",
   "metadata": {},
   "source": [
    "2) pd.DataFrame:\n",
    "Two-dimensional, size-mutable, potentially heterogeneous tabular data.\n",
    "Example:"
   ]
  },
  {
   "cell_type": "code",
   "execution_count": 31,
   "id": "ae4166af",
   "metadata": {},
   "outputs": [],
   "source": [
    "d = {'col1': ['Adult', 'Teenager'], 'col2': [18, 16]}\n",
    "df = pd.DataFrame(data=d)"
   ]
  },
  {
   "cell_type": "code",
   "execution_count": 32,
   "id": "f4c91a09",
   "metadata": {},
   "outputs": [
    {
     "data": {
      "text/html": [
       "<div>\n",
       "<style scoped>\n",
       "    .dataframe tbody tr th:only-of-type {\n",
       "        vertical-align: middle;\n",
       "    }\n",
       "\n",
       "    .dataframe tbody tr th {\n",
       "        vertical-align: top;\n",
       "    }\n",
       "\n",
       "    .dataframe thead th {\n",
       "        text-align: right;\n",
       "    }\n",
       "</style>\n",
       "<table border=\"1\" class=\"dataframe\">\n",
       "  <thead>\n",
       "    <tr style=\"text-align: right;\">\n",
       "      <th></th>\n",
       "      <th>col1</th>\n",
       "      <th>col2</th>\n",
       "    </tr>\n",
       "  </thead>\n",
       "  <tbody>\n",
       "    <tr>\n",
       "      <th>0</th>\n",
       "      <td>Adult</td>\n",
       "      <td>18</td>\n",
       "    </tr>\n",
       "    <tr>\n",
       "      <th>1</th>\n",
       "      <td>Teenager</td>\n",
       "      <td>16</td>\n",
       "    </tr>\n",
       "  </tbody>\n",
       "</table>\n",
       "</div>"
      ],
      "text/plain": [
       "       col1  col2\n",
       "0     Adult    18\n",
       "1  Teenager    16"
      ]
     },
     "execution_count": 32,
     "metadata": {},
     "output_type": "execute_result"
    }
   ],
   "source": [
    "df"
   ]
  },
  {
   "cell_type": "markdown",
   "id": "02c32396",
   "metadata": {},
   "source": [
    "2) pd.date_range:\n",
    "used to return a fixed frequency DatetimeIndex, you must specify the start and end.\n",
    "Example:"
   ]
  },
  {
   "cell_type": "code",
   "execution_count": 33,
   "id": "fdb4f286",
   "metadata": {},
   "outputs": [
    {
     "data": {
      "text/plain": [
       "DatetimeIndex(['2017-12-25', '2017-12-26', '2017-12-27', '2017-12-28',\n",
       "               '2017-12-29', '2017-12-30', '2017-12-31', '2018-01-01'],\n",
       "              dtype='datetime64[ns]', freq='D')"
      ]
     },
     "execution_count": 33,
     "metadata": {},
     "output_type": "execute_result"
    }
   ],
   "source": [
    "pd.date_range(end='1/1/2018', periods=8)\n",
    "\n"
   ]
  },
  {
   "cell_type": "markdown",
   "id": "f048633a",
   "metadata": {},
   "source": [
    "3) pd.concat:\n",
    "Concatenate pandas objects along a particular axis with optional set logic\n",
    "along the other axes.\n",
    "Example:"
   ]
  },
  {
   "cell_type": "code",
   "execution_count": 34,
   "id": "82950f14",
   "metadata": {},
   "outputs": [],
   "source": [
    "A1 = pd.Series(['100', '95','90'])\n",
    "B2 = pd.Series(['89', '85','80'])\n"
   ]
  },
  {
   "cell_type": "code",
   "execution_count": 35,
   "id": "8a9ffe0f",
   "metadata": {},
   "outputs": [
    {
     "data": {
      "text/plain": [
       "0    100\n",
       "1     95\n",
       "2     90\n",
       "0     89\n",
       "1     85\n",
       "2     80\n",
       "dtype: object"
      ]
     },
     "execution_count": 35,
     "metadata": {},
     "output_type": "execute_result"
    }
   ],
   "source": [
    "pd.concat([A1, B2])"
   ]
  },
  {
   "cell_type": "markdown",
   "id": "97bc7354",
   "metadata": {},
   "source": [
    "4) pd.cut:\n",
    "Bin values into discrete intervals.\n",
    "Exampe:"
   ]
  },
  {
   "cell_type": "code",
   "execution_count": 36,
   "id": "13da970e",
   "metadata": {},
   "outputs": [
    {
     "data": {
      "text/plain": [
       "[(1.993, 3.167], (6.667, 7.833], (7.833, 9.0], (3.167, 4.333], (5.5, 6.667], (7.833, 9.0]]\n",
       "Categories (6, interval[float64, right]): [(1.993, 3.167] < (3.167, 4.333] < (4.333, 5.5] < (5.5, 6.667] < (6.667, 7.833] < (7.833, 9.0]]"
      ]
     },
     "execution_count": 36,
     "metadata": {},
     "output_type": "execute_result"
    }
   ],
   "source": [
    "pd.cut(np.array([2, 7, 8, 4, 6, 9]), 6)"
   ]
  },
  {
   "cell_type": "markdown",
   "id": "35b00daa",
   "metadata": {},
   "source": [
    "5) pd.array:\n",
    "creates an array.\n",
    "Example:"
   ]
  },
  {
   "cell_type": "code",
   "execution_count": 37,
   "id": "e18da0a5",
   "metadata": {},
   "outputs": [
    {
     "data": {
      "text/plain": [
       "<IntegerArray>\n",
       "[100, 50, <NA>]\n",
       "Length: 3, dtype: Int64"
      ]
     },
     "execution_count": 37,
     "metadata": {},
     "output_type": "execute_result"
    }
   ],
   "source": [
    "pd.array([100, 50, np.nan])\n"
   ]
  },
  {
   "cell_type": "markdown",
   "id": "97f88693",
   "metadata": {},
   "source": [
    "6) pd.Categorical:\n",
    "Represent a categorical variable in classic fashion. Missing values are not included in catagory.\n",
    "Example:"
   ]
  },
  {
   "cell_type": "code",
   "execution_count": 38,
   "id": "50dc721b",
   "metadata": {},
   "outputs": [],
   "source": [
    " numbers = pd.Categorical([1, 2, 3, 1, 2, 3, np.nan])"
   ]
  },
  {
   "cell_type": "code",
   "execution_count": 39,
   "id": "62f904db",
   "metadata": {},
   "outputs": [
    {
     "data": {
      "text/plain": [
       "[1, 2, 3, 1, 2, 3, NaN]\n",
       "Categories (3, int64): [1, 2, 3]"
      ]
     },
     "execution_count": 39,
     "metadata": {},
     "output_type": "execute_result"
    }
   ],
   "source": [
    "numbers"
   ]
  },
  {
   "cell_type": "code",
   "execution_count": 40,
   "id": "e3f1449a",
   "metadata": {},
   "outputs": [],
   "source": [
    "number = pd.Categorical([1, 0, 3, 7, 2, 3, np.nan])"
   ]
  },
  {
   "cell_type": "code",
   "execution_count": 41,
   "id": "c1471618",
   "metadata": {},
   "outputs": [
    {
     "data": {
      "text/plain": [
       "[1, 0, 3, 7, 2, 3, NaN]\n",
       "Categories (5, int64): [0, 1, 2, 3, 7]"
      ]
     },
     "execution_count": 41,
     "metadata": {},
     "output_type": "execute_result"
    }
   ],
   "source": [
    "number"
   ]
  },
  {
   "cell_type": "markdown",
   "id": "4e9ceae3",
   "metadata": {},
   "source": [
    "7) pd.BooleanDtype:\n",
    "This is an extention dtype for boolean data.\n",
    "Example:"
   ]
  },
  {
   "cell_type": "code",
   "execution_count": 42,
   "id": "9e8843b4",
   "metadata": {},
   "outputs": [
    {
     "data": {
      "text/plain": [
       "pandas.core.arrays.boolean.BooleanDtype"
      ]
     },
     "execution_count": 42,
     "metadata": {},
     "output_type": "execute_result"
    }
   ],
   "source": [
    "pd.BooleanDtype"
   ]
  },
  {
   "cell_type": "markdown",
   "id": "d952933c",
   "metadata": {},
   "source": [
    "8) pd.Index: #check index.slice\n",
    "This is the basic object storing axis labels for all pandas objects.\n",
    "Example:"
   ]
  },
  {
   "cell_type": "code",
   "execution_count": 43,
   "id": "c59e85a3",
   "metadata": {},
   "outputs": [
    {
     "data": {
      "text/plain": [
       "Int64Index([8, 9, 7, 6], dtype='int64')"
      ]
     },
     "execution_count": 43,
     "metadata": {},
     "output_type": "execute_result"
    }
   ],
   "source": [
    "pd.Index([8,9,7,6])"
   ]
  },
  {
   "cell_type": "markdown",
   "id": "21461775",
   "metadata": {},
   "source": [
    "9) pd.eval:\n",
    "Evaluate a Python expression as a string using various backends.\n",
    "Example(adding a new column to a dataset):\n"
   ]
  },
  {
   "cell_type": "code",
   "execution_count": 44,
   "id": "eee7a6a3",
   "metadata": {},
   "outputs": [],
   "source": [
    "df = pd.DataFrame({\"names\": [\"Belinda\", \"Aramide\"], \"age\": [10, 20]})\n"
   ]
  },
  {
   "cell_type": "code",
   "execution_count": 45,
   "id": "1d28f13c",
   "metadata": {},
   "outputs": [
    {
     "data": {
      "text/html": [
       "<div>\n",
       "<style scoped>\n",
       "    .dataframe tbody tr th:only-of-type {\n",
       "        vertical-align: middle;\n",
       "    }\n",
       "\n",
       "    .dataframe tbody tr th {\n",
       "        vertical-align: top;\n",
       "    }\n",
       "\n",
       "    .dataframe thead th {\n",
       "        text-align: right;\n",
       "    }\n",
       "</style>\n",
       "<table border=\"1\" class=\"dataframe\">\n",
       "  <thead>\n",
       "    <tr style=\"text-align: right;\">\n",
       "      <th></th>\n",
       "      <th>names</th>\n",
       "      <th>age</th>\n",
       "    </tr>\n",
       "  </thead>\n",
       "  <tbody>\n",
       "    <tr>\n",
       "      <th>0</th>\n",
       "      <td>Belinda</td>\n",
       "      <td>10</td>\n",
       "    </tr>\n",
       "    <tr>\n",
       "      <th>1</th>\n",
       "      <td>Aramide</td>\n",
       "      <td>20</td>\n",
       "    </tr>\n",
       "  </tbody>\n",
       "</table>\n",
       "</div>"
      ],
      "text/plain": [
       "     names  age\n",
       "0  Belinda   10\n",
       "1  Aramide   20"
      ]
     },
     "execution_count": 45,
     "metadata": {},
     "output_type": "execute_result"
    }
   ],
   "source": [
    "df"
   ]
  },
  {
   "cell_type": "code",
   "execution_count": 46,
   "id": "d5c6084f",
   "metadata": {},
   "outputs": [
    {
     "data": {
      "text/html": [
       "<div>\n",
       "<style scoped>\n",
       "    .dataframe tbody tr th:only-of-type {\n",
       "        vertical-align: middle;\n",
       "    }\n",
       "\n",
       "    .dataframe tbody tr th {\n",
       "        vertical-align: top;\n",
       "    }\n",
       "\n",
       "    .dataframe thead th {\n",
       "        text-align: right;\n",
       "    }\n",
       "</style>\n",
       "<table border=\"1\" class=\"dataframe\">\n",
       "  <thead>\n",
       "    <tr style=\"text-align: right;\">\n",
       "      <th></th>\n",
       "      <th>names</th>\n",
       "      <th>age</th>\n",
       "      <th>double_age</th>\n",
       "    </tr>\n",
       "  </thead>\n",
       "  <tbody>\n",
       "    <tr>\n",
       "      <th>0</th>\n",
       "      <td>Belinda</td>\n",
       "      <td>10</td>\n",
       "      <td>20</td>\n",
       "    </tr>\n",
       "    <tr>\n",
       "      <th>1</th>\n",
       "      <td>Aramide</td>\n",
       "      <td>20</td>\n",
       "      <td>40</td>\n",
       "    </tr>\n",
       "  </tbody>\n",
       "</table>\n",
       "</div>"
      ],
      "text/plain": [
       "     names  age  double_age\n",
       "0  Belinda   10          20\n",
       "1  Aramide   20          40"
      ]
     },
     "execution_count": 46,
     "metadata": {},
     "output_type": "execute_result"
    }
   ],
   "source": [
    "pd.eval(\"double_age = df.age * 2\", target=df)"
   ]
  },
  {
   "cell_type": "markdown",
   "id": "50487264",
   "metadata": {},
   "source": [
    "10) pd.Grouper:\n",
    "A Grouper allows the user to specify a groupby instruction for an object.\n",
    "Example:"
   ]
  },
  {
   "cell_type": "code",
   "execution_count": 49,
   "id": "c9b03083",
   "metadata": {},
   "outputs": [],
   "source": [
    "df = pd.DataFrame({\"Animal\": [\"Falcon\", \"Parrot\", \"Falcon\", \"Falcon\", \"Parrot\"],\n",
    "\"Speed\": [10, 5, 90, 300, 10],})"
   ]
  },
  {
   "cell_type": "code",
   "execution_count": 50,
   "id": "feae4143",
   "metadata": {},
   "outputs": [
    {
     "data": {
      "text/html": [
       "<div>\n",
       "<style scoped>\n",
       "    .dataframe tbody tr th:only-of-type {\n",
       "        vertical-align: middle;\n",
       "    }\n",
       "\n",
       "    .dataframe tbody tr th {\n",
       "        vertical-align: top;\n",
       "    }\n",
       "\n",
       "    .dataframe thead th {\n",
       "        text-align: right;\n",
       "    }\n",
       "</style>\n",
       "<table border=\"1\" class=\"dataframe\">\n",
       "  <thead>\n",
       "    <tr style=\"text-align: right;\">\n",
       "      <th></th>\n",
       "      <th>Animal</th>\n",
       "      <th>Speed</th>\n",
       "    </tr>\n",
       "  </thead>\n",
       "  <tbody>\n",
       "    <tr>\n",
       "      <th>0</th>\n",
       "      <td>Falcon</td>\n",
       "      <td>10</td>\n",
       "    </tr>\n",
       "    <tr>\n",
       "      <th>1</th>\n",
       "      <td>Parrot</td>\n",
       "      <td>5</td>\n",
       "    </tr>\n",
       "    <tr>\n",
       "      <th>2</th>\n",
       "      <td>Falcon</td>\n",
       "      <td>90</td>\n",
       "    </tr>\n",
       "    <tr>\n",
       "      <th>3</th>\n",
       "      <td>Falcon</td>\n",
       "      <td>300</td>\n",
       "    </tr>\n",
       "    <tr>\n",
       "      <th>4</th>\n",
       "      <td>Parrot</td>\n",
       "      <td>10</td>\n",
       "    </tr>\n",
       "  </tbody>\n",
       "</table>\n",
       "</div>"
      ],
      "text/plain": [
       "   Animal  Speed\n",
       "0  Falcon     10\n",
       "1  Parrot      5\n",
       "2  Falcon     90\n",
       "3  Falcon    300\n",
       "4  Parrot     10"
      ]
     },
     "execution_count": 50,
     "metadata": {},
     "output_type": "execute_result"
    }
   ],
   "source": [
    "df"
   ]
  },
  {
   "cell_type": "code",
   "execution_count": 58,
   "id": "f87cd1fe",
   "metadata": {},
   "outputs": [
    {
     "data": {
      "text/html": [
       "<div>\n",
       "<style scoped>\n",
       "    .dataframe tbody tr th:only-of-type {\n",
       "        vertical-align: middle;\n",
       "    }\n",
       "\n",
       "    .dataframe tbody tr th {\n",
       "        vertical-align: top;\n",
       "    }\n",
       "\n",
       "    .dataframe thead th {\n",
       "        text-align: right;\n",
       "    }\n",
       "</style>\n",
       "<table border=\"1\" class=\"dataframe\">\n",
       "  <thead>\n",
       "    <tr style=\"text-align: right;\">\n",
       "      <th></th>\n",
       "      <th>Speed</th>\n",
       "    </tr>\n",
       "    <tr>\n",
       "      <th>Animal</th>\n",
       "      <th></th>\n",
       "    </tr>\n",
       "  </thead>\n",
       "  <tbody>\n",
       "    <tr>\n",
       "      <th>Falcon</th>\n",
       "      <td>133.333333</td>\n",
       "    </tr>\n",
       "    <tr>\n",
       "      <th>Parrot</th>\n",
       "      <td>7.500000</td>\n",
       "    </tr>\n",
       "  </tbody>\n",
       "</table>\n",
       "</div>"
      ],
      "text/plain": [
       "             Speed\n",
       "Animal            \n",
       "Falcon  133.333333\n",
       "Parrot    7.500000"
      ]
     },
     "execution_count": 58,
     "metadata": {},
     "output_type": "execute_result"
    }
   ],
   "source": [
    "df.groupby(pd.Grouper(key=\"Animal\")).mean()"
   ]
  },
  {
   "cell_type": "markdown",
   "id": "48433b03",
   "metadata": {},
   "source": [
    "11) pd.melt:\n",
    "Used to create a specific format of the DataFrame object where one or more columns work as identifiers.\n",
    "Example:"
   ]
  },
  {
   "cell_type": "code",
   "execution_count": 59,
   "id": "e624329e",
   "metadata": {},
   "outputs": [],
   "source": [
    "df = pd.DataFrame({'A': {0: 'a', 1: 'b', 2: 'c'},'B': {0: 1, 1: 3, 2: 5},'C': {0: 2, 1: 4, 2: 6}})"
   ]
  },
  {
   "cell_type": "code",
   "execution_count": 60,
   "id": "d13adac3",
   "metadata": {},
   "outputs": [
    {
     "data": {
      "text/html": [
       "<div>\n",
       "<style scoped>\n",
       "    .dataframe tbody tr th:only-of-type {\n",
       "        vertical-align: middle;\n",
       "    }\n",
       "\n",
       "    .dataframe tbody tr th {\n",
       "        vertical-align: top;\n",
       "    }\n",
       "\n",
       "    .dataframe thead th {\n",
       "        text-align: right;\n",
       "    }\n",
       "</style>\n",
       "<table border=\"1\" class=\"dataframe\">\n",
       "  <thead>\n",
       "    <tr style=\"text-align: right;\">\n",
       "      <th></th>\n",
       "      <th>A</th>\n",
       "      <th>B</th>\n",
       "      <th>C</th>\n",
       "    </tr>\n",
       "  </thead>\n",
       "  <tbody>\n",
       "    <tr>\n",
       "      <th>0</th>\n",
       "      <td>a</td>\n",
       "      <td>1</td>\n",
       "      <td>2</td>\n",
       "    </tr>\n",
       "    <tr>\n",
       "      <th>1</th>\n",
       "      <td>b</td>\n",
       "      <td>3</td>\n",
       "      <td>4</td>\n",
       "    </tr>\n",
       "    <tr>\n",
       "      <th>2</th>\n",
       "      <td>c</td>\n",
       "      <td>5</td>\n",
       "      <td>6</td>\n",
       "    </tr>\n",
       "  </tbody>\n",
       "</table>\n",
       "</div>"
      ],
      "text/plain": [
       "   A  B  C\n",
       "0  a  1  2\n",
       "1  b  3  4\n",
       "2  c  5  6"
      ]
     },
     "execution_count": 60,
     "metadata": {},
     "output_type": "execute_result"
    }
   ],
   "source": [
    "df"
   ]
  },
  {
   "cell_type": "code",
   "execution_count": 61,
   "id": "32590c9d",
   "metadata": {},
   "outputs": [
    {
     "data": {
      "text/html": [
       "<div>\n",
       "<style scoped>\n",
       "    .dataframe tbody tr th:only-of-type {\n",
       "        vertical-align: middle;\n",
       "    }\n",
       "\n",
       "    .dataframe tbody tr th {\n",
       "        vertical-align: top;\n",
       "    }\n",
       "\n",
       "    .dataframe thead th {\n",
       "        text-align: right;\n",
       "    }\n",
       "</style>\n",
       "<table border=\"1\" class=\"dataframe\">\n",
       "  <thead>\n",
       "    <tr style=\"text-align: right;\">\n",
       "      <th></th>\n",
       "      <th>A</th>\n",
       "      <th>variable</th>\n",
       "      <th>value</th>\n",
       "    </tr>\n",
       "  </thead>\n",
       "  <tbody>\n",
       "    <tr>\n",
       "      <th>0</th>\n",
       "      <td>a</td>\n",
       "      <td>B</td>\n",
       "      <td>1</td>\n",
       "    </tr>\n",
       "    <tr>\n",
       "      <th>1</th>\n",
       "      <td>b</td>\n",
       "      <td>B</td>\n",
       "      <td>3</td>\n",
       "    </tr>\n",
       "    <tr>\n",
       "      <th>2</th>\n",
       "      <td>c</td>\n",
       "      <td>B</td>\n",
       "      <td>5</td>\n",
       "    </tr>\n",
       "  </tbody>\n",
       "</table>\n",
       "</div>"
      ],
      "text/plain": [
       "   A variable  value\n",
       "0  a        B      1\n",
       "1  b        B      3\n",
       "2  c        B      5"
      ]
     },
     "execution_count": 61,
     "metadata": {},
     "output_type": "execute_result"
    }
   ],
   "source": [
    "pd.melt(df, id_vars=['A'], value_vars=['B'])"
   ]
  },
  {
   "cell_type": "markdown",
   "id": "b089112e",
   "metadata": {},
   "source": [
    "12) pd.Interval:\n",
    "An index of interval objects that are all closed on the same side.\n",
    "Example:"
   ]
  },
  {
   "cell_type": "code",
   "execution_count": 65,
   "id": "92b1413c",
   "metadata": {},
   "outputs": [],
   "source": [
    "Range = pd.Interval(left=4, right=8)"
   ]
  },
  {
   "cell_type": "code",
   "execution_count": 66,
   "id": "748bb805",
   "metadata": {},
   "outputs": [
    {
     "data": {
      "text/plain": [
       "Interval(4, 8, closed='right')"
      ]
     },
     "execution_count": 66,
     "metadata": {},
     "output_type": "execute_result"
    }
   ],
   "source": [
    "Range"
   ]
  },
  {
   "cell_type": "code",
   "execution_count": 67,
   "id": "83c66ff0",
   "metadata": {},
   "outputs": [
    {
     "data": {
      "text/plain": [
       "True"
      ]
     },
     "execution_count": 67,
     "metadata": {},
     "output_type": "execute_result"
    }
   ],
   "source": [
    "6 in Range #checking to see if 6 belongs to the interval within 4 and 8"
   ]
  },
  {
   "cell_type": "code",
   "execution_count": 68,
   "id": "dd9073c1",
   "metadata": {},
   "outputs": [
    {
     "data": {
      "text/plain": [
       "False"
      ]
     },
     "execution_count": 68,
     "metadata": {},
     "output_type": "execute_result"
    }
   ],
   "source": [
    "9 in Range #checking to see if 9 belongs to the interval within 4 and 8"
   ]
  },
  {
   "cell_type": "markdown",
   "id": "50597c22",
   "metadata": {},
   "source": [
    "13) pd.lreshape:\n",
    "Reshape wide-format data to long format. This is a generalized inverse of DataFrame.pivot. \n",
    "Example:"
   ]
  },
  {
   "cell_type": "code",
   "execution_count": 72,
   "id": "7f7559f6",
   "metadata": {},
   "outputs": [],
   "source": [
    "data = pd.DataFrame({'votes1': [114, 873], 'votes2': [989, 126],'team': ['APC', 'PDP'],\n",
    "                     'year1': [2007, 2007], 'year2': [2008, 2008]})"
   ]
  },
  {
   "cell_type": "code",
   "execution_count": 73,
   "id": "472e5dde",
   "metadata": {},
   "outputs": [
    {
     "data": {
      "text/html": [
       "<div>\n",
       "<style scoped>\n",
       "    .dataframe tbody tr th:only-of-type {\n",
       "        vertical-align: middle;\n",
       "    }\n",
       "\n",
       "    .dataframe tbody tr th {\n",
       "        vertical-align: top;\n",
       "    }\n",
       "\n",
       "    .dataframe thead th {\n",
       "        text-align: right;\n",
       "    }\n",
       "</style>\n",
       "<table border=\"1\" class=\"dataframe\">\n",
       "  <thead>\n",
       "    <tr style=\"text-align: right;\">\n",
       "      <th></th>\n",
       "      <th>votes1</th>\n",
       "      <th>votes2</th>\n",
       "      <th>team</th>\n",
       "      <th>year1</th>\n",
       "      <th>year2</th>\n",
       "    </tr>\n",
       "  </thead>\n",
       "  <tbody>\n",
       "    <tr>\n",
       "      <th>0</th>\n",
       "      <td>114</td>\n",
       "      <td>989</td>\n",
       "      <td>APC</td>\n",
       "      <td>2007</td>\n",
       "      <td>2008</td>\n",
       "    </tr>\n",
       "    <tr>\n",
       "      <th>1</th>\n",
       "      <td>873</td>\n",
       "      <td>126</td>\n",
       "      <td>PDP</td>\n",
       "      <td>2007</td>\n",
       "      <td>2008</td>\n",
       "    </tr>\n",
       "  </tbody>\n",
       "</table>\n",
       "</div>"
      ],
      "text/plain": [
       "   votes1  votes2 team  year1  year2\n",
       "0     114     989  APC   2007   2008\n",
       "1     873     126  PDP   2007   2008"
      ]
     },
     "execution_count": 73,
     "metadata": {},
     "output_type": "execute_result"
    }
   ],
   "source": [
    "data"
   ]
  },
  {
   "cell_type": "code",
   "execution_count": 74,
   "id": "7f27bd43",
   "metadata": {},
   "outputs": [
    {
     "data": {
      "text/html": [
       "<div>\n",
       "<style scoped>\n",
       "    .dataframe tbody tr th:only-of-type {\n",
       "        vertical-align: middle;\n",
       "    }\n",
       "\n",
       "    .dataframe tbody tr th {\n",
       "        vertical-align: top;\n",
       "    }\n",
       "\n",
       "    .dataframe thead th {\n",
       "        text-align: right;\n",
       "    }\n",
       "</style>\n",
       "<table border=\"1\" class=\"dataframe\">\n",
       "  <thead>\n",
       "    <tr style=\"text-align: right;\">\n",
       "      <th></th>\n",
       "      <th>team</th>\n",
       "      <th>year</th>\n",
       "      <th>votes</th>\n",
       "    </tr>\n",
       "  </thead>\n",
       "  <tbody>\n",
       "    <tr>\n",
       "      <th>0</th>\n",
       "      <td>APC</td>\n",
       "      <td>2007</td>\n",
       "      <td>114</td>\n",
       "    </tr>\n",
       "    <tr>\n",
       "      <th>1</th>\n",
       "      <td>PDP</td>\n",
       "      <td>2007</td>\n",
       "      <td>873</td>\n",
       "    </tr>\n",
       "    <tr>\n",
       "      <th>2</th>\n",
       "      <td>APC</td>\n",
       "      <td>2008</td>\n",
       "      <td>989</td>\n",
       "    </tr>\n",
       "    <tr>\n",
       "      <th>3</th>\n",
       "      <td>PDP</td>\n",
       "      <td>2008</td>\n",
       "      <td>126</td>\n",
       "    </tr>\n",
       "  </tbody>\n",
       "</table>\n",
       "</div>"
      ],
      "text/plain": [
       "  team  year  votes\n",
       "0  APC  2007    114\n",
       "1  PDP  2007    873\n",
       "2  APC  2008    989\n",
       "3  PDP  2008    126"
      ]
     },
     "execution_count": 74,
     "metadata": {},
     "output_type": "execute_result"
    }
   ],
   "source": [
    "pd.lreshape(data, {'year': ['year1', 'year2'], 'votes': ['votes1', 'votes2']})"
   ]
  },
  {
   "cell_type": "markdown",
   "id": "b75d321b",
   "metadata": {},
   "source": [
    "14) pd.factorize:\n",
    "This method is useful for obtaining a numeric representation of an array when all that matters is identifying distinct values.\n",
    "Example:"
   ]
  },
  {
   "cell_type": "code",
   "execution_count": 78,
   "id": "7cf68ccc",
   "metadata": {},
   "outputs": [],
   "source": [
    "numbers, alphabets = pd.factorize(['b', 'b', 'a', 'c', 'b'])"
   ]
  },
  {
   "cell_type": "code",
   "execution_count": 79,
   "id": "e9d21157",
   "metadata": {},
   "outputs": [
    {
     "data": {
      "text/plain": [
       "array([0, 0, 1, 2, 0], dtype=int64)"
      ]
     },
     "execution_count": 79,
     "metadata": {},
     "output_type": "execute_result"
    }
   ],
   "source": [
    "numbers"
   ]
  },
  {
   "cell_type": "code",
   "execution_count": 80,
   "id": "f911b04b",
   "metadata": {},
   "outputs": [
    {
     "data": {
      "text/plain": [
       "array(['b', 'a', 'c'], dtype=object)"
      ]
     },
     "execution_count": 80,
     "metadata": {},
     "output_type": "execute_result"
    }
   ],
   "source": [
    "alphabets"
   ]
  },
  {
   "cell_type": "markdown",
   "id": "bb504319",
   "metadata": {},
   "source": [
    "15) pd.CategoricalDtype:\n",
    "Type for categorical data with the categories and orderedness.\n",
    "Example:"
   ]
  },
  {
   "cell_type": "code",
   "execution_count": 82,
   "id": "b72b0c95",
   "metadata": {},
   "outputs": [
    {
     "data": {
      "text/plain": [
       "0      a\n",
       "1      b\n",
       "2      a\n",
       "3    NaN\n",
       "dtype: category\n",
       "Categories (2, object): ['b' < 'a']"
      ]
     },
     "execution_count": 82,
     "metadata": {},
     "output_type": "execute_result"
    }
   ],
   "source": [
    "X = pd.CategoricalDtype(categories=['b', 'a'], ordered=True)\n",
    "pd.Series(['a', 'b', 'a', 'c'], dtype=t)"
   ]
  },
  {
   "cell_type": "markdown",
   "id": "5795f4df",
   "metadata": {},
   "source": [
    "16) pd.interval_range:\n",
    " Used to return a fixed frequency IntervalIndex.\n",
    "Example:"
   ]
  },
  {
   "cell_type": "code",
   "execution_count": 84,
   "id": "2b843ad7",
   "metadata": {},
   "outputs": [
    {
     "data": {
      "text/plain": [
       "IntervalIndex([(5, 6], (6, 7], (7, 8], (8, 9], (9, 10] ... (15, 16], (16, 17], (17, 18], (18, 19], (19, 20]], dtype='interval[int64, right]')"
      ]
     },
     "execution_count": 84,
     "metadata": {},
     "output_type": "execute_result"
    }
   ],
   "source": [
    " pd.interval_range(start=5, end=20)"
   ]
  },
  {
   "cell_type": "markdown",
   "id": "74015af5",
   "metadata": {},
   "source": [
    "17) pd.infer_freq:\n",
    "Infer the most likely frequency given the input index. If the frequency is\n",
    "uncertain, a warning will be printed.\n",
    "Example:"
   ]
  },
  {
   "cell_type": "code",
   "execution_count": 91,
   "id": "8eaf067d",
   "metadata": {},
   "outputs": [],
   "source": [
    "x= pd.date_range(start='2020/12/01', end='2020/12/30', periods=30)"
   ]
  },
  {
   "cell_type": "code",
   "execution_count": 92,
   "id": "26b05e58",
   "metadata": {},
   "outputs": [
    {
     "data": {
      "text/plain": [
       "'D'"
      ]
     },
     "execution_count": 92,
     "metadata": {},
     "output_type": "execute_result"
    }
   ],
   "source": [
    "pd.infer_freq(x)"
   ]
  },
  {
   "cell_type": "markdown",
   "id": "027f6092",
   "metadata": {},
   "source": [
    "18) pd.crosstab:\n",
    "Compute a simple cross tabulation of two (or more) factors.\n",
    "Example:"
   ]
  },
  {
   "cell_type": "code",
   "execution_count": 94,
   "id": "82114aaa",
   "metadata": {},
   "outputs": [],
   "source": [
    "a = np.array([\"foo\", \"foo\", \"foo\", \"foo\", \"bar\", \"bar\",\n",
    "               \"bar\", \"bar\", \"foo\", \"foo\", \"foo\"], dtype=object)\n",
    "b = np.array([\"one\", \"one\", \"one\", \"two\", \"one\", \"one\",\n",
    "\"one\", \"two\", \"two\", \"two\", \"one\"], dtype=object)\n",
    "c = np.array([\"dull\", \"dull\", \"shiny\", \"dull\", \"dull\", \"shiny\",\n",
    "\"shiny\", \"dull\", \"shiny\", \"shiny\", \"shiny\"],\n",
    "dtype=object)\n"
   ]
  },
  {
   "cell_type": "code",
   "execution_count": 95,
   "id": "7e51f7f6",
   "metadata": {},
   "outputs": [
    {
     "data": {
      "text/html": [
       "<div>\n",
       "<style scoped>\n",
       "    .dataframe tbody tr th:only-of-type {\n",
       "        vertical-align: middle;\n",
       "    }\n",
       "\n",
       "    .dataframe tbody tr th {\n",
       "        vertical-align: top;\n",
       "    }\n",
       "\n",
       "    .dataframe thead tr th {\n",
       "        text-align: left;\n",
       "    }\n",
       "\n",
       "    .dataframe thead tr:last-of-type th {\n",
       "        text-align: right;\n",
       "    }\n",
       "</style>\n",
       "<table border=\"1\" class=\"dataframe\">\n",
       "  <thead>\n",
       "    <tr>\n",
       "      <th>b</th>\n",
       "      <th colspan=\"2\" halign=\"left\">one</th>\n",
       "      <th colspan=\"2\" halign=\"left\">two</th>\n",
       "    </tr>\n",
       "    <tr>\n",
       "      <th>c</th>\n",
       "      <th>dull</th>\n",
       "      <th>shiny</th>\n",
       "      <th>dull</th>\n",
       "      <th>shiny</th>\n",
       "    </tr>\n",
       "    <tr>\n",
       "      <th>a</th>\n",
       "      <th></th>\n",
       "      <th></th>\n",
       "      <th></th>\n",
       "      <th></th>\n",
       "    </tr>\n",
       "  </thead>\n",
       "  <tbody>\n",
       "    <tr>\n",
       "      <th>bar</th>\n",
       "      <td>1</td>\n",
       "      <td>2</td>\n",
       "      <td>1</td>\n",
       "      <td>0</td>\n",
       "    </tr>\n",
       "    <tr>\n",
       "      <th>foo</th>\n",
       "      <td>2</td>\n",
       "      <td>2</td>\n",
       "      <td>1</td>\n",
       "      <td>2</td>\n",
       "    </tr>\n",
       "  </tbody>\n",
       "</table>\n",
       "</div>"
      ],
      "text/plain": [
       "b    one        two      \n",
       "c   dull shiny dull shiny\n",
       "a                        \n",
       "bar    1     2    1     0\n",
       "foo    2     2    1     2"
      ]
     },
     "execution_count": 95,
     "metadata": {},
     "output_type": "execute_result"
    }
   ],
   "source": [
    "pd.crosstab(a, [b, c], rownames=['a'], colnames=['b', 'c'])"
   ]
  },
  {
   "cell_type": "markdown",
   "id": "51e2ccbb",
   "metadata": {},
   "source": [
    "19) pd.qcut:\n",
    "Disctretize variable into equal-sized buckets based on rank or based on sample quantiles.\n",
    "Example:\n"
   ]
  },
  {
   "cell_type": "code",
   "execution_count": 98,
   "id": "9d46be9f",
   "metadata": {},
   "outputs": [
    {
     "data": {
      "text/plain": [
       "['good', 'good', 'good', 'better', 'better', 'best', 'best', 'best']\n",
       "Categories (3, object): ['good' < 'better' < 'best']"
      ]
     },
     "execution_count": 98,
     "metadata": {},
     "output_type": "execute_result"
    }
   ],
   "source": [
    " pd.qcut(range(8), 3, labels=[\"good\", \"better\", \"best\"])"
   ]
  },
  {
   "cell_type": "markdown",
   "id": "df7ea8a5",
   "metadata": {},
   "source": [
    "20) pd.isnull:\n",
    "Detect missing values for an array-like object.\n",
    "Example:"
   ]
  },
  {
   "cell_type": "code",
   "execution_count": 99,
   "id": "b7ad35da",
   "metadata": {},
   "outputs": [
    {
     "data": {
      "text/plain": [
       "True"
      ]
     },
     "execution_count": 99,
     "metadata": {},
     "output_type": "execute_result"
    }
   ],
   "source": [
    "pd.isna(pd.NA)"
   ]
  },
  {
   "cell_type": "code",
   "execution_count": null,
   "id": "1eb4b882",
   "metadata": {},
   "outputs": [],
   "source": []
  },
  {
   "cell_type": "code",
   "execution_count": null,
   "id": "c26419da",
   "metadata": {},
   "outputs": [],
   "source": []
  },
  {
   "cell_type": "code",
   "execution_count": null,
   "id": "60b34e0e",
   "metadata": {},
   "outputs": [],
   "source": []
  }
 ],
 "metadata": {
  "kernelspec": {
   "display_name": "Python 3 (ipykernel)",
   "language": "python",
   "name": "python3"
  },
  "language_info": {
   "codemirror_mode": {
    "name": "ipython",
    "version": 3
   },
   "file_extension": ".py",
   "mimetype": "text/x-python",
   "name": "python",
   "nbconvert_exporter": "python",
   "pygments_lexer": "ipython3",
   "version": "3.9.12"
  }
 },
 "nbformat": 4,
 "nbformat_minor": 5
}
