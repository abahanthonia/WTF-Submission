{
 "cells": [
  {
   "cell_type": "markdown",
   "id": "f86056a2",
   "metadata": {},
   "source": [
    "1) - Print all elements of a list using for loop"
   ]
  },
  {
   "cell_type": "code",
   "execution_count": 5,
   "id": "3c682fa6",
   "metadata": {},
   "outputs": [
    {
     "name": "stdout",
     "output_type": "stream",
     "text": [
      "2\n",
      "4\n",
      "6\n",
      "8\n",
      "10\n",
      "12\n",
      "14\n",
      "16\n"
     ]
    }
   ],
   "source": [
    "listx =[2,4,6,8,10,12,14,16]\n",
    "for evennumber in listx:\n",
    "    print(evennumber)"
   ]
  },
  {
   "cell_type": "markdown",
   "id": "92a07439",
   "metadata": {},
   "source": [
    "2) - A company decided to give bonus of 5% to employee if his/her year of service is more than 5 years. \n",
    "Ask user for their salary and year of service and print the net bonus amount.\n"
   ]
  },
  {
   "cell_type": "code",
   "execution_count": 1,
   "id": "cd9e234c",
   "metadata": {},
   "outputs": [
    {
     "name": "stdout",
     "output_type": "stream",
     "text": [
      "please enter your salary5000\n",
      "how old is your service to our company?6\n",
      "net bonus =  250.0\n"
     ]
    }
   ],
   "source": [
    "salary=int(input('please enter your salary'))\n",
    "service=int(input('how old is your service to our company?'))\n",
    "if service>5:\n",
    "    bonus=0.05*salary\n",
    "    print('net bonus = ', bonus)\n",
    "else:\n",
    "    print('bonus cannot be generated')"
   ]
  },
  {
   "cell_type": "markdown",
   "id": "ad8def62",
   "metadata": {},
   "source": [
    "3) - Take input of age of 3 people by user and determine oldest and youngest among them."
   ]
  },
  {
   "cell_type": "code",
   "execution_count": 2,
   "id": "6c4b0f21",
   "metadata": {},
   "outputs": [
    {
     "name": "stdout",
     "output_type": "stream",
     "text": [
      "enter your age12\n",
      "enter your age16\n",
      "enter your age18\n",
      "oldest age is:  18\n",
      "youngest age is:  12\n"
     ]
    }
   ],
   "source": [
    "age1=int(input('enter your age'))\n",
    "age2=int(input('enter your age'))\n",
    "age3=int(input('enter your age'))\n",
    "oldest=max(age1, age2, age3)\n",
    "youngest=min(age1, age2, age3)\n",
    "print('oldest age is: ', oldest)\n",
    "print('youngest age is: ', youngest)"
   ]
  },
  {
   "cell_type": "markdown",
   "id": "7b448dc0",
   "metadata": {},
   "source": [
    "4/5) - A school has the following rules for grading system: \n",
    "    (a)Below 25-F (b)25 to 45-E (c)45 to 50-D (d)50 to 60-C \n",
    "    (e)60b to 80-B (f)Above 80-A. Ask user to enter marks and print the corresponding grade.\n",
    "\n"
   ]
  },
  {
   "cell_type": "code",
   "execution_count": 13,
   "id": "d1bc7e18",
   "metadata": {},
   "outputs": [
    {
     "name": "stdout",
     "output_type": "stream",
     "text": [
      "enter mark60\n",
      "B\n"
     ]
    }
   ],
   "source": [
    "mark = input('enter mark')\n",
    "mark=int(mark)\n",
    "if mark<25:\n",
    "    print('F')\n",
    "elif mark>=25 and mark<45:\n",
    "    prnt('E')\n",
    "elif mark>=45 and mark<50:\n",
    "    print('D')\n",
    "elif mark>=50 and mark<60:\n",
    "    print('E')\n",
    "elif mark>=60 and mark<80:\n",
    "    print('B')\n",
    "else:\n",
    "    print('A')"
   ]
  },
  {
   "cell_type": "markdown",
   "id": "0795ff0c",
   "metadata": {},
   "source": [
    "6) Write a python script to merge two python dictionaries\n"
   ]
  },
  {
   "cell_type": "code",
   "execution_count": 11,
   "id": "5b7e5b66",
   "metadata": {},
   "outputs": [
    {
     "name": "stdout",
     "output_type": "stream",
     "text": [
      "{'teenager': 16, 'adult': 18}\n"
     ]
    }
   ],
   "source": [
    "d1={'teenager':16}\n",
    "d2={'adult':18}\n",
    "d=d1.copy()\n",
    "d.update(d2)\n",
    "print(d)"
   ]
  },
  {
   "cell_type": "markdown",
   "id": "f1f2d823",
   "metadata": {},
   "source": [
    "7) - Write a python program to get the largest number from a list"
   ]
  },
  {
   "cell_type": "code",
   "execution_count": 10,
   "id": "30b2995c",
   "metadata": {},
   "outputs": [
    {
     "name": "stdout",
     "output_type": "stream",
     "text": [
      "9\n"
     ]
    }
   ],
   "source": [
    "def max_num_in_list (list):\n",
    "    max=list[0]\n",
    "    for x in list:\n",
    "        if x>max:\n",
    "            max=x\n",
    "    return max\n",
    "print(max_num_in_list([3,6,9,1,-9]))\n"
   ]
  },
  {
   "cell_type": "markdown",
   "id": "3acbcf53",
   "metadata": {},
   "source": [
    "8) - Write a python program to remove a key from a dictionary"
   ]
  },
  {
   "cell_type": "code",
   "execution_count": 8,
   "id": "2048bbe3",
   "metadata": {},
   "outputs": [
    {
     "name": "stdout",
     "output_type": "stream",
     "text": [
      "{'Nigeria': 36, 'Ghana': 16, 'Uganda': 4}\n",
      "{'Ghana': 16, 'Uganda': 4}\n"
     ]
    }
   ],
   "source": [
    "dictx={'Nigeria':36, 'Ghana':16, 'Uganda':4}\n",
    "print(dictx)\n",
    "if 'Nigeria' in dictx:\n",
    "    del dictx['Nigeria']\n",
    "print(dictx)"
   ]
  },
  {
   "cell_type": "code",
   "execution_count": null,
   "id": "2e6290a3",
   "metadata": {},
   "outputs": [],
   "source": []
  },
  {
   "cell_type": "code",
   "execution_count": null,
   "id": "5915e723",
   "metadata": {},
   "outputs": [],
   "source": []
  },
  {
   "cell_type": "code",
   "execution_count": null,
   "id": "003d77b6",
   "metadata": {},
   "outputs": [],
   "source": []
  }
 ],
 "metadata": {
  "kernelspec": {
   "display_name": "Python 3 (ipykernel)",
   "language": "python",
   "name": "python3"
  },
  "language_info": {
   "codemirror_mode": {
    "name": "ipython",
    "version": 3
   },
   "file_extension": ".py",
   "mimetype": "text/x-python",
   "name": "python",
   "nbconvert_exporter": "python",
   "pygments_lexer": "ipython3",
   "version": "3.9.12"
  }
 },
 "nbformat": 4,
 "nbformat_minor": 5
}
